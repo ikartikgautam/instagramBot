{
 "cells": [
  {
   "cell_type": "code",
   "execution_count": 5,
   "metadata": {},
   "outputs": [],
   "source": [
    "from selenium import webdriver\n",
    "import time"
   ]
  },
  {
   "cell_type": "code",
   "execution_count": 6,
   "metadata": {},
   "outputs": [],
   "source": [
    "driver = webdriver.Chrome()"
   ]
  },
  {
   "cell_type": "code",
   "execution_count": 7,
   "metadata": {},
   "outputs": [],
   "source": [
    "driver.get('https://www.instagram.com/')"
   ]
  },
  {
   "cell_type": "code",
   "execution_count": 8,
   "metadata": {},
   "outputs": [],
   "source": [
    "uname = 'ENTER YOUR EMAIL/USERNAME'\n",
    "passWord = 'ENTER YOUR PASS'\n",
    "\n",
    "driver.implicitly_wait(10)\n",
    "\n",
    "searchbox = driver.find_element_by_xpath('//*[@id=\"react-root\"]/section/main/article/div[2]/div[1]/div/form/div[2]/div/label/input')\n",
    "searchbox.send_keys(uname)\n",
    "\n",
    "searchbox = driver.find_element_by_xpath('//*[@id=\"react-root\"]/section/main/article/div[2]/div[1]/div/form/div[3]/div/label/input')\n",
    "searchbox.send_keys(passWord)"
   ]
  },
  {
   "cell_type": "code",
   "execution_count": 9,
   "metadata": {},
   "outputs": [],
   "source": [
    "searchBtn = driver.find_element_by_xpath('//*[@id=\"react-root\"]/section/main/article/div[2]/div[1]/div/form/div[4]/button')\n",
    "searchBtn.click()"
   ]
  },
  {
   "cell_type": "code",
   "execution_count": 10,
   "metadata": {},
   "outputs": [],
   "source": [
    "saveLogin = driver.find_element_by_xpath('//*[@id=\"react-root\"]/section/main/div/div/div/div/button')\n",
    "saveLogin.click()"
   ]
  },
  {
   "cell_type": "code",
   "execution_count": 11,
   "metadata": {},
   "outputs": [],
   "source": [
    "notifBtn = driver.find_element_by_xpath('/html/body/div[4]/div/div/div[3]/button[2]')\n",
    "notifBtn.click()"
   ]
  },
  {
   "cell_type": "code",
   "execution_count": 12,
   "metadata": {},
   "outputs": [],
   "source": [
    "def commenter(page):\n",
    "    searchBox = driver.find_element_by_xpath('//*[@id=\"react-root\"]/section/nav/div[2]/div/div/div[2]/input')\n",
    "    searchBox.send_keys(page)\n",
    "    list = driver.find_elements_by_class_name('yCE8d')\n",
    "    list[0].click()\n",
    "    time.sleep(3)\n",
    "    postsOnPage = driver.find_elements_by_class_name('v1Nh3')\n",
    "    i=postsOnPage[0]\n",
    "    driver.implicitly_wait(1000)\n",
    "    i.click()\n",
    "    driver.implicitly_wait(100)\n",
    "    inputF = driver.find_element_by_class_name('Ypffh')\n",
    "    inputF.click()\n",
    "    form = driver.find_element_by_class_name('X7cDz')\n",
    "    print(form)\n",
    "    form.find_element_by_class_name('Ypffh').send_keys('Follow Me Please Guys, I need Followers. Help Me')\n",
    "    form.find_element_by_class_name('sqdOP').click()\n",
    "    driver.find_element_by_xpath('/html/body/div[4]/div[3]/button').click()"
   ]
  },
  {
   "cell_type": "code",
   "execution_count": 13,
   "metadata": {},
   "outputs": [
    {
     "name": "stdout",
     "output_type": "stream",
     "text": [
      "<selenium.webdriver.remote.webelement.WebElement (session=\"3b08e6199fdcfed5270e52681134de2c\", element=\"066c0f3e-538f-4c70-8a9b-edcf0a105ebd\")>\n",
      "<selenium.webdriver.remote.webelement.WebElement (session=\"3b08e6199fdcfed5270e52681134de2c\", element=\"39fd7a46-6198-4a10-9e52-0234e08c8fea\")>\n",
      "<selenium.webdriver.remote.webelement.WebElement (session=\"3b08e6199fdcfed5270e52681134de2c\", element=\"279bae8e-5d32-49e0-8071-2a5198566e0a\")>\n",
      "<selenium.webdriver.remote.webelement.WebElement (session=\"3b08e6199fdcfed5270e52681134de2c\", element=\"963ea0cb-e414-41e3-a19e-e661048ca426\")>\n",
      "<selenium.webdriver.remote.webelement.WebElement (session=\"3b08e6199fdcfed5270e52681134de2c\", element=\"52333e5f-2af1-4b67-b466-01a9f918e6c5\")>\n"
     ]
    }
   ],
   "source": [
    "pagesList = ['apple','samsung','instagram','xiaomiindia','memes']\n",
    "for each in pagesList:\n",
    "    commenter(each)"
   ]
  },
  {
   "cell_type": "code",
   "execution_count": null,
   "metadata": {},
   "outputs": [],
   "source": []
  }
 ],
 "metadata": {
  "kernelspec": {
   "display_name": "Python 3",
   "language": "python",
   "name": "python3"
  },
  "language_info": {
   "codemirror_mode": {
    "name": "ipython",
    "version": 3
   },
   "file_extension": ".py",
   "mimetype": "text/x-python",
   "name": "python",
   "nbconvert_exporter": "python",
   "pygments_lexer": "ipython3",
   "version": "3.7.6"
  }
 },
 "nbformat": 4,
 "nbformat_minor": 4
}